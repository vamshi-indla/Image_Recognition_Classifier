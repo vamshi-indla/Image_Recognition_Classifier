{
 "cells": [
  {
   "cell_type": "markdown",
   "metadata": {},
   "source": [
    "# Transfer Learning using VGG16, classified new animals"
   ]
  },
  {
   "cell_type": "code",
   "execution_count": 1,
   "metadata": {},
   "outputs": [
    {
     "name": "stderr",
     "output_type": "stream",
     "text": [
      "C:\\Installations\\Anaconda\\lib\\site-packages\\h5py\\__init__.py:34: FutureWarning: Conversion of the second argument of issubdtype from `float` to `np.floating` is deprecated. In future, it will be treated as `np.float64 == np.dtype(float).type`.\n",
      "  from ._conv import register_converters as _register_converters\n",
      "Using TensorFlow backend.\n"
     ]
    }
   ],
   "source": [
    "#Import packages\n",
    "from keras.applications import VGG16\n",
    "\n",
    "from keras.preprocessing.image import ImageDataGenerator\n",
    "import numpy as np\n",
    "import os\n",
    "\n",
    "image_size = 150\n",
    "\n",
    "#Load the VGG model\n",
    "conv_base = VGG16(weights='imagenet', include_top=False, input_shape=(image_size, image_size, 3))"
   ]
  },
  {
   "cell_type": "code",
   "execution_count": 2,
   "metadata": {},
   "outputs": [],
   "source": [
    "# Set directories\n",
    "base_dir = 'C:\\\\Users\\\\vindla\\\\Downloads\\\\Cg_DS4\\\\computer_vision\\\\animal'\n",
    "\n",
    "train_dir = os.path.join(base_dir, 'train')\n",
    "validation_dir = os.path.join(base_dir, 'validation')\n",
    "test_dir = os.path.join(base_dir, 'test')"
   ]
  },
  {
   "cell_type": "code",
   "execution_count": 4,
   "metadata": {},
   "outputs": [
    {
     "name": "stdout",
     "output_type": "stream",
     "text": [
      "<keras.engine.topology.InputLayer object at 0x00000215F790A748> False\n",
      "<keras.layers.convolutional.Conv2D object at 0x00000215897E5A90> False\n",
      "<keras.layers.convolutional.Conv2D object at 0x0000021589918588> False\n",
      "<keras.layers.pooling.MaxPooling2D object at 0x0000021589EBE7F0> False\n",
      "<keras.layers.convolutional.Conv2D object at 0x0000021589F11B00> False\n",
      "<keras.layers.convolutional.Conv2D object at 0x0000021589F22DA0> False\n",
      "<keras.layers.pooling.MaxPooling2D object at 0x0000021589F31438> False\n",
      "<keras.layers.convolutional.Conv2D object at 0x0000021589F57710> False\n",
      "<keras.layers.convolutional.Conv2D object at 0x0000021589F57048> False\n",
      "<keras.layers.convolutional.Conv2D object at 0x0000021589F795C0> False\n",
      "<keras.layers.pooling.MaxPooling2D object at 0x0000021589F9DCC0> False\n",
      "<keras.layers.convolutional.Conv2D object at 0x0000021589FC2208> False\n",
      "<keras.layers.convolutional.Conv2D object at 0x0000021589FC2D30> False\n",
      "<keras.layers.convolutional.Conv2D object at 0x0000021589FE4630> False\n",
      "<keras.layers.pooling.MaxPooling2D object at 0x0000021589FF4358> False\n",
      "<keras.layers.convolutional.Conv2D object at 0x000002158A0199B0> False\n",
      "<keras.layers.convolutional.Conv2D object at 0x000002158A0192B0> False\n",
      "<keras.layers.convolutional.Conv2D object at 0x000002158A03C860> True\n",
      "<keras.layers.pooling.MaxPooling2D object at 0x000002158A05CF28> True\n"
     ]
    }
   ],
   "source": [
    "# Freeze the layers except the last 2 layers\n",
    "for layer in conv_base.layers[:-2]:\n",
    "    layer.trainable = False\n",
    " \n",
    "# Check the trainable status of the individual layers\n",
    "for layer in conv_base.layers:\n",
    "    print(layer, layer.trainable)"
   ]
  },
  {
   "cell_type": "code",
   "execution_count": 5,
   "metadata": {},
   "outputs": [
    {
     "name": "stdout",
     "output_type": "stream",
     "text": [
      "Found 142 images belonging to 3 classes.\n",
      "Found 33 images belonging to 3 classes.\n",
      "Found 43 images belonging to 3 classes.\n"
     ]
    }
   ],
   "source": [
    "# Setup the data generators\n",
    "from keras.preprocessing.image import ImageDataGenerator\n",
    "\n",
    "datagen = ImageDataGenerator(rescale=1./255)\n",
    " \n",
    "# Change the batchsize according to your system RAM\n",
    "train_batchsize = 20\n",
    "val_batchsize = 10\n",
    "test_batchsize = 10\n",
    "image_size = 150\n",
    " \n",
    "train_generator = datagen.flow_from_directory(\n",
    "        train_dir,\n",
    "        target_size=(image_size, image_size),\n",
    "        batch_size=train_batchsize,\n",
    "        class_mode='categorical')\n",
    " \n",
    "validation_generator = datagen.flow_from_directory(\n",
    "        validation_dir,\n",
    "        target_size=(image_size, image_size),\n",
    "        batch_size=val_batchsize,\n",
    "        class_mode='categorical',\n",
    "        shuffle=False)\n",
    "\n",
    "test_generator = datagen.flow_from_directory(\n",
    "        test_dir,\n",
    "        target_size=(image_size, image_size),\n",
    "        batch_size=test_batchsize,\n",
    "        class_mode='categorical',\n",
    "        shuffle=False)"
   ]
  },
  {
   "cell_type": "code",
   "execution_count": 6,
   "metadata": {},
   "outputs": [
    {
     "name": "stdout",
     "output_type": "stream",
     "text": [
      "_________________________________________________________________\n",
      "Layer (type)                 Output Shape              Param #   \n",
      "=================================================================\n",
      "vgg16 (Model)                (None, 4, 4, 512)         14714688  \n",
      "_________________________________________________________________\n",
      "dense_1 (Dense)              (None, 4, 4, 256)         131328    \n",
      "_________________________________________________________________\n",
      "dropout_1 (Dropout)          (None, 4, 4, 256)         0         \n",
      "_________________________________________________________________\n",
      "flatten_1 (Flatten)          (None, 4096)              0         \n",
      "_________________________________________________________________\n",
      "dense_2 (Dense)              (None, 3)                 12291     \n",
      "=================================================================\n",
      "Total params: 14,858,307\n",
      "Trainable params: 2,503,427\n",
      "Non-trainable params: 12,354,880\n",
      "_________________________________________________________________\n"
     ]
    }
   ],
   "source": [
    "# Create Model\n",
    "from keras import models\n",
    "from keras import layers\n",
    "from keras import optimizers\n",
    "\n",
    "model = models.Sequential()\n",
    " \n",
    "# Add the vgg convolutional base model\n",
    "model.add(conv_base)\n",
    " \n",
    "# Add new layers\n",
    "#model.add(layers.Flatten())\n",
    "\n",
    "model.add(layers.Dense(256, activation='relu', input_dim=4 * 4 * 512))\n",
    "model.add(layers.Dropout(0.5))\n",
    "model.add(layers.Flatten())\n",
    "model.add(layers.Dense(3, activation='softmax'))  \n",
    "\n",
    "model.summary()"
   ]
  },
  {
   "cell_type": "code",
   "execution_count": 7,
   "metadata": {},
   "outputs": [
    {
     "name": "stdout",
     "output_type": "stream",
     "text": [
      "Epoch 1/30\n",
      "8/7 [=================================] - 32s 4s/step - loss: 1.1537 - acc: 0.4183 - val_loss: 0.5284 - val_acc: 0.9091\n",
      "Epoch 2/30\n",
      "8/7 [=================================] - 32s 4s/step - loss: 0.6525 - acc: 0.7155 - val_loss: 0.3370 - val_acc: 1.0000\n",
      "Epoch 3/30\n",
      "8/7 [=================================] - 32s 4s/step - loss: 0.4285 - acc: 0.8099 - val_loss: 0.2417 - val_acc: 1.0000\n",
      "Epoch 4/30\n",
      "8/7 [=================================] - 32s 4s/step - loss: 0.4628 - acc: 0.8352 - val_loss: 0.2096 - val_acc: 1.0000\n",
      "Epoch 5/30\n",
      "8/7 [=================================] - 32s 4s/step - loss: 0.3079 - acc: 0.8923 - val_loss: 0.1086 - val_acc: 1.0000\n",
      "Epoch 6/30\n",
      "8/7 [=================================] - 31s 4s/step - loss: 0.2717 - acc: 0.8923 - val_loss: 0.0824 - val_acc: 1.0000\n",
      "Epoch 7/30\n",
      "8/7 [=================================] - 31s 4s/step - loss: 0.2232 - acc: 0.9176 - val_loss: 0.0597 - val_acc: 1.0000\n",
      "Epoch 8/30\n",
      "8/7 [=================================] - 31s 4s/step - loss: 0.2299 - acc: 0.9049 - val_loss: 0.0439 - val_acc: 1.0000\n",
      "Epoch 9/30\n",
      "8/7 [=================================] - 31s 4s/step - loss: 0.2218 - acc: 0.9113 - val_loss: 0.0388 - val_acc: 1.0000\n",
      "Epoch 10/30\n",
      "8/7 [=================================] - 31s 4s/step - loss: 0.1841 - acc: 0.9113 - val_loss: 0.0281 - val_acc: 1.0000\n",
      "Epoch 11/30\n",
      "8/7 [=================================] - 31s 4s/step - loss: 0.1825 - acc: 0.9239 - val_loss: 0.0214 - val_acc: 1.0000\n",
      "Epoch 12/30\n",
      "8/7 [=================================] - 31s 4s/step - loss: 0.1977 - acc: 0.9176 - val_loss: 0.0180 - val_acc: 1.0000\n",
      "Epoch 13/30\n",
      "8/7 [=================================] - 31s 4s/step - loss: 0.2131 - acc: 0.9113 - val_loss: 0.0153 - val_acc: 1.0000\n",
      "Epoch 14/30\n",
      "8/7 [=================================] - 31s 4s/step - loss: 0.2020 - acc: 0.8859 - val_loss: 0.0122 - val_acc: 1.0000\n",
      "Epoch 15/30\n",
      "8/7 [=================================] - 31s 4s/step - loss: 0.1531 - acc: 0.9303 - val_loss: 0.0094 - val_acc: 1.0000\n",
      "Epoch 16/30\n",
      "8/7 [=================================] - 31s 4s/step - loss: 0.1878 - acc: 0.9049 - val_loss: 0.0083 - val_acc: 1.0000\n",
      "Epoch 17/30\n",
      "8/7 [=================================] - 32s 4s/step - loss: 0.1481 - acc: 0.9303 - val_loss: 0.0072 - val_acc: 1.0000\n",
      "Epoch 18/30\n",
      "8/7 [=================================] - 32s 4s/step - loss: 0.3136 - acc: 0.8486 - val_loss: 0.0062 - val_acc: 1.0000\n",
      "Epoch 19/30\n",
      "8/7 [=================================] - 32s 4s/step - loss: 0.1713 - acc: 0.8986 - val_loss: 0.0052 - val_acc: 1.0000\n",
      "Epoch 20/30\n",
      "8/7 [=================================] - 32s 4s/step - loss: 0.1499 - acc: 0.9239 - val_loss: 0.0042 - val_acc: 1.0000\n",
      "Epoch 21/30\n",
      "8/7 [=================================] - 32s 4s/step - loss: 0.2347 - acc: 0.9239 - val_loss: 0.0039 - val_acc: 1.0000\n",
      "Epoch 22/30\n",
      "8/7 [=================================] - 32s 4s/step - loss: 0.1476 - acc: 0.9366 - val_loss: 0.0032 - val_acc: 1.0000\n",
      "Epoch 23/30\n",
      "8/7 [=================================] - 32s 4s/step - loss: 0.1582 - acc: 0.9239 - val_loss: 0.0029 - val_acc: 1.0000\n",
      "Epoch 24/30\n",
      "8/7 [=================================] - 32s 4s/step - loss: 0.1414 - acc: 0.9239 - val_loss: 0.0024 - val_acc: 1.0000\n",
      "Epoch 25/30\n",
      "8/7 [=================================] - 31s 4s/step - loss: 0.2702 - acc: 0.8613 - val_loss: 0.0019 - val_acc: 1.0000\n",
      "Epoch 26/30\n",
      "8/7 [=================================] - 31s 4s/step - loss: 0.1641 - acc: 0.9239 - val_loss: 0.0018 - val_acc: 1.0000\n",
      "Epoch 27/30\n",
      "8/7 [=================================] - 31s 4s/step - loss: 0.2064 - acc: 0.8986 - val_loss: 0.0017 - val_acc: 1.0000\n",
      "Epoch 28/30\n",
      "8/7 [=================================] - 31s 4s/step - loss: 0.1728 - acc: 0.9113 - val_loss: 0.0018 - val_acc: 1.0000\n",
      "Epoch 29/30\n",
      "8/7 [=================================] - 31s 4s/step - loss: 0.1671 - acc: 0.9049 - val_loss: 0.0013 - val_acc: 1.0000\n",
      "Epoch 30/30\n",
      "8/7 [=================================] - 31s 4s/step - loss: 0.1717 - acc: 0.9049 - val_loss: 9.8698e-04 - val_acc: 1.0000\n"
     ]
    }
   ],
   "source": [
    "# Train the model\n",
    "\n",
    "# Compile the model\n",
    "model.compile(loss='categorical_crossentropy',\n",
    "              optimizer=optimizers.RMSprop(lr=1e-4),\n",
    "              metrics=['acc'])\n",
    "\n",
    "# Fit the model\n",
    "history = model.fit_generator(\n",
    "      train_generator,\n",
    "      steps_per_epoch=train_generator.samples/train_generator.batch_size ,\n",
    "      epochs=30,\n",
    "      validation_data=validation_generator,\n",
    "      validation_steps=validation_generator.samples/validation_generator.batch_size, \n",
    "      verbose=1)\n",
    " \n",
    "# Save the model\n",
    "model.save('5_3_VGG16.h5')"
   ]
  },
  {
   "cell_type": "code",
   "execution_count": 8,
   "metadata": {},
   "outputs": [
    {
     "name": "stdout",
     "output_type": "stream",
     "text": [
      "5/4 [==================================] - 7s 1s/step\n"
     ]
    }
   ],
   "source": [
    "# Get the predictions from the model using the generator\n",
    "predictions = model.predict_generator(test_generator, steps=test_generator.samples/test_generator.batch_size,verbose=1)\n",
    "predicted_classes = np.argmax(predictions,axis=1)"
   ]
  },
  {
   "cell_type": "code",
   "execution_count": 31,
   "metadata": {},
   "outputs": [
    {
     "data": {
      "text/plain": [
       "array([0, 0, 0, 0], dtype=int64)"
      ]
     },
     "execution_count": 31,
     "metadata": {},
     "output_type": "execute_result"
    }
   ],
   "source": [
    "predicted_classes[1:5]"
   ]
  }
 ],
 "metadata": {
  "kernelspec": {
   "display_name": "Python 3",
   "language": "python",
   "name": "python3"
  },
  "language_info": {
   "codemirror_mode": {
    "name": "ipython",
    "version": 3
   },
   "file_extension": ".py",
   "mimetype": "text/x-python",
   "name": "python",
   "nbconvert_exporter": "python",
   "pygments_lexer": "ipython3",
   "version": "3.6.3"
  }
 },
 "nbformat": 4,
 "nbformat_minor": 2
}
